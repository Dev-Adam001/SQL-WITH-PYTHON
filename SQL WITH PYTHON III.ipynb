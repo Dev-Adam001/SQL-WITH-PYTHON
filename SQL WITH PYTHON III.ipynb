{
 "cells": [
  {
   "cell_type": "code",
   "execution_count": 1,
   "id": "4540a80d",
   "metadata": {},
   "outputs": [],
   "source": [
    "import mysql.connector as ms\n",
    "import pandas as pd"
   ]
  },
  {
   "cell_type": "code",
   "execution_count": null,
   "id": "d66eb7b6",
   "metadata": {},
   "outputs": [],
   "source": [
    "course_code = {'Accounting': [180,200,220], 'Finance':[200, 220, 240], 'marketing': [240, 260, 280]}\n",
    "cc = course_code\n",
    "score = 220\n",
    "for cc in course_code:\n",
    "    if score in course_code[cc]:\n",
    "        print(score, 'is in', cc)\n",
    "print(type(course_code))\n",
    "\n",
    "print(course_code['Finance'])"
   ]
  },
  {
   "cell_type": "code",
   "execution_count": 17,
   "id": "7db5aa06",
   "metadata": {},
   "outputs": [],
   "source": [
    "inputs = {a:'localhost', b:'root', c:'Adidas@124'}\n",
    "\n",
    "hosts = 'localhost'\n",
    "users= 'root'\n",
    "passwords='Adidas@124'\n",
    "\n",
    "#inputs = inputs\n",
    "#for inputs in inputs:\n",
    "    #if host == a and user==b and password==c:\n",
    "        #print('log on complete')\n",
    "    #else:\n",
    "        #print('please input correct data')\n",
    "        \n"
   ]
  },
  {
   "cell_type": "code",
   "execution_count": 2,
   "id": "c63c4d7f",
   "metadata": {},
   "outputs": [
    {
     "name": "stdout",
     "output_type": "stream",
     "text": [
      "Please input database: sql_python\n"
     ]
    }
   ],
   "source": [
    "database = input('Please input database: ')"
   ]
  },
  {
   "cell_type": "code",
   "execution_count": 19,
   "id": "86816431",
   "metadata": {},
   "outputs": [
    {
     "name": "stdout",
     "output_type": "stream",
     "text": [
      "Please key in your host_ID: localhost\n",
      "Please key in your user_ID: root\n",
      "Please key in your passkey: Adidas@124\n"
     ]
    }
   ],
   "source": [
    "db_conn = ms.connect(host=input('Please key in your host_ID: '), \n",
    "                     user=input('Please key in your user_ID: '), \n",
    "                     password =input('Please key in your passkey: '),\n",
    "                     database = database)\n",
    "\n"
   ]
  },
  {
   "cell_type": "code",
   "execution_count": null,
   "id": "421eaa1d",
   "metadata": {},
   "outputs": [],
   "source": []
  },
  {
   "cell_type": "code",
   "execution_count": 22,
   "id": "e90faf74",
   "metadata": {},
   "outputs": [
    {
     "ename": "NameError",
     "evalue": "name 'host' is not defined",
     "output_type": "error",
     "traceback": [
      "\u001b[1;31m---------------------------------------------------------------------------\u001b[0m",
      "\u001b[1;31mNameError\u001b[0m                                 Traceback (most recent call last)",
      "Input \u001b[1;32mIn [22]\u001b[0m, in \u001b[0;36m<cell line: 8>\u001b[1;34m()\u001b[0m\n\u001b[0;32m      6\u001b[0m passwords\u001b[38;5;241m=\u001b[39m\u001b[38;5;124m'\u001b[39m\u001b[38;5;124mAdidas@124\u001b[39m\u001b[38;5;124m'\u001b[39m\n\u001b[0;32m      8\u001b[0m \u001b[38;5;28;01mfor\u001b[39;00m inputs \u001b[38;5;129;01min\u001b[39;00m inputs:\n\u001b[1;32m----> 9\u001b[0m     \u001b[38;5;28;01mif\u001b[39;00m hosts \u001b[38;5;241m==\u001b[39m \u001b[43mhost\u001b[49m \u001b[38;5;129;01mand\u001b[39;00m users\u001b[38;5;241m==\u001b[39muser \u001b[38;5;129;01mand\u001b[39;00m passwords\u001b[38;5;241m==\u001b[39mpassword:\n\u001b[0;32m     10\u001b[0m         \u001b[38;5;28mprint\u001b[39m(\u001b[38;5;124m'\u001b[39m\u001b[38;5;124mlog on complete\u001b[39m\u001b[38;5;124m'\u001b[39m)\n\u001b[0;32m     11\u001b[0m     \u001b[38;5;28;01melse\u001b[39;00m:\n",
      "\u001b[1;31mNameError\u001b[0m: name 'host' is not defined"
     ]
    }
   ],
   "source": [
    "inputs = {a:'localhost', b:'root', c:'Adidas@124'}\n",
    "inputs = inputs\n",
    "\n",
    "hosts = 'localhost'\n",
    "users= 'root'\n",
    "passwords='Adidas@124'\n",
    "\n",
    "for inputs in inputs:\n",
    "    if hosts == host and users==user and passwords==password:\n",
    "        print('log on complete')\n",
    "    else:\n",
    "        print('please input correct data')"
   ]
  },
  {
   "cell_type": "code",
   "execution_count": null,
   "id": "50472662",
   "metadata": {},
   "outputs": [],
   "source": []
  },
  {
   "cell_type": "code",
   "execution_count": 4,
   "id": "d5dc9c22",
   "metadata": {},
   "outputs": [
    {
     "name": "stdout",
     "output_type": "stream",
     "text": [
      "CMySQLCursor: (Nothing executed yet)\n"
     ]
    }
   ],
   "source": [
    "cursor = db_conn.cursor()\n",
    "print(cursor)"
   ]
  },
  {
   "cell_type": "code",
   "execution_count": 5,
   "id": "c84fadc3",
   "metadata": {},
   "outputs": [],
   "source": [
    "def read_query(db_conn, query):\n",
    "    cursor = db_conn.cursor()\n",
    "    result = None\n",
    "    try:\n",
    "        cursor.execute(query)\n",
    "        result = cursor.fetchall()\n",
    "        return result\n",
    "    except Error as err:\n",
    "        print(f\"Error: '{err}'\")"
   ]
  },
  {
   "cell_type": "code",
   "execution_count": 6,
   "id": "25caccb3",
   "metadata": {},
   "outputs": [
    {
     "name": "stdout",
     "output_type": "stream",
     "text": [
      "Please input query: select * from animal\n",
      "('a', 'cat', '2.5', 1, 'yes')\n",
      "('b', 'dog', '3.0', 3, 'yes')\n",
      "('c', 'snake', '0.5', 2, 'no')\n",
      "('d', 'cat', '', 3, 'yes')\n",
      "('e', 'goat', '5.0', 2, 'no')\n",
      "('f', 'cat', '2.0', 1, 'no')\n",
      "('g', 'cow', '4.5', 1, 'no')\n",
      "('h', 'sheep', '', 2, 'yes')\n",
      "('i', 'pig', '7.0', 1, 'no')\n",
      "('j', 'dog', '1.5', 1, 'no')\n"
     ]
    }
   ],
   "source": [
    "query = input('Please input query: ')\n",
    "\n",
    "#db_conn = ms.connect(host=input('Please key in your host_ID: '), \n",
    "                     #user=input('Please key in your user_ID: '), \n",
    "                     #password =input('Please key in your passkey: '), \n",
    "                                     #database = input('Please select the schema: '))\n",
    "results = read_query(db_conn, query)\n",
    "for result in results:\n",
    "    print(result)\n",
    "\n"
   ]
  },
  {
   "cell_type": "code",
   "execution_count": 9,
   "id": "82d7ff94",
   "metadata": {},
   "outputs": [
    {
     "data": {
      "text/html": [
       "<div>\n",
       "<style scoped>\n",
       "    .dataframe tbody tr th:only-of-type {\n",
       "        vertical-align: middle;\n",
       "    }\n",
       "\n",
       "    .dataframe tbody tr th {\n",
       "        vertical-align: top;\n",
       "    }\n",
       "\n",
       "    .dataframe thead th {\n",
       "        text-align: right;\n",
       "    }\n",
       "</style>\n",
       "<table border=\"1\" class=\"dataframe\">\n",
       "  <thead>\n",
       "    <tr style=\"text-align: right;\">\n",
       "      <th></th>\n",
       "      <th>id</th>\n",
       "      <th>name</th>\n",
       "      <th>priority</th>\n",
       "      <th>visit</th>\n",
       "      <th>record_updated</th>\n",
       "    </tr>\n",
       "  </thead>\n",
       "  <tbody>\n",
       "    <tr>\n",
       "      <th>0</th>\n",
       "      <td>a</td>\n",
       "      <td>cat</td>\n",
       "      <td>2.5</td>\n",
       "      <td>1</td>\n",
       "      <td>yes</td>\n",
       "    </tr>\n",
       "    <tr>\n",
       "      <th>1</th>\n",
       "      <td>b</td>\n",
       "      <td>dog</td>\n",
       "      <td>3.0</td>\n",
       "      <td>3</td>\n",
       "      <td>yes</td>\n",
       "    </tr>\n",
       "    <tr>\n",
       "      <th>2</th>\n",
       "      <td>c</td>\n",
       "      <td>snake</td>\n",
       "      <td>0.5</td>\n",
       "      <td>2</td>\n",
       "      <td>no</td>\n",
       "    </tr>\n",
       "    <tr>\n",
       "      <th>3</th>\n",
       "      <td>d</td>\n",
       "      <td>cat</td>\n",
       "      <td></td>\n",
       "      <td>3</td>\n",
       "      <td>yes</td>\n",
       "    </tr>\n",
       "    <tr>\n",
       "      <th>4</th>\n",
       "      <td>e</td>\n",
       "      <td>goat</td>\n",
       "      <td>5.0</td>\n",
       "      <td>2</td>\n",
       "      <td>no</td>\n",
       "    </tr>\n",
       "    <tr>\n",
       "      <th>5</th>\n",
       "      <td>f</td>\n",
       "      <td>cat</td>\n",
       "      <td>2.0</td>\n",
       "      <td>1</td>\n",
       "      <td>no</td>\n",
       "    </tr>\n",
       "    <tr>\n",
       "      <th>6</th>\n",
       "      <td>g</td>\n",
       "      <td>cow</td>\n",
       "      <td>4.5</td>\n",
       "      <td>1</td>\n",
       "      <td>no</td>\n",
       "    </tr>\n",
       "    <tr>\n",
       "      <th>7</th>\n",
       "      <td>h</td>\n",
       "      <td>sheep</td>\n",
       "      <td></td>\n",
       "      <td>2</td>\n",
       "      <td>yes</td>\n",
       "    </tr>\n",
       "    <tr>\n",
       "      <th>8</th>\n",
       "      <td>i</td>\n",
       "      <td>pig</td>\n",
       "      <td>7.0</td>\n",
       "      <td>1</td>\n",
       "      <td>no</td>\n",
       "    </tr>\n",
       "    <tr>\n",
       "      <th>9</th>\n",
       "      <td>j</td>\n",
       "      <td>dog</td>\n",
       "      <td>1.5</td>\n",
       "      <td>1</td>\n",
       "      <td>no</td>\n",
       "    </tr>\n",
       "  </tbody>\n",
       "</table>\n",
       "</div>"
      ],
      "text/plain": [
       "  id   name priority  visit record_updated\n",
       "0  a    cat      2.5      1            yes\n",
       "1  b    dog      3.0      3            yes\n",
       "2  c  snake      0.5      2             no\n",
       "3  d    cat               3            yes\n",
       "4  e   goat      5.0      2             no\n",
       "5  f    cat      2.0      1             no\n",
       "6  g    cow      4.5      1             no\n",
       "7  h  sheep               2            yes\n",
       "8  i    pig      7.0      1             no\n",
       "9  j    dog      1.5      1             no"
      ]
     },
     "metadata": {},
     "output_type": "display_data"
    }
   ],
   "source": [
    "dframe = []\n",
    "\n",
    "for result in results:\n",
    "    result = list(result)\n",
    "    dframe.append(result)\n",
    "    \n",
    "columns = ['id', 'name', 'priority', 'visit', 'record_updated']\n",
    "\n",
    "df4 = pd.DataFrame(dframe, columns = columns)\n",
    "display(df4)"
   ]
  },
  {
   "cell_type": "code",
   "execution_count": null,
   "id": "7f0b192c",
   "metadata": {},
   "outputs": [],
   "source": []
  },
  {
   "cell_type": "code",
   "execution_count": null,
   "id": "b33a37f1",
   "metadata": {},
   "outputs": [],
   "source": []
  },
  {
   "cell_type": "code",
   "execution_count": null,
   "id": "8d96761d",
   "metadata": {},
   "outputs": [],
   "source": []
  },
  {
   "cell_type": "code",
   "execution_count": null,
   "id": "251c5547",
   "metadata": {},
   "outputs": [],
   "source": []
  },
  {
   "cell_type": "code",
   "execution_count": null,
   "id": "21389e76",
   "metadata": {},
   "outputs": [],
   "source": [
    "\n"
   ]
  },
  {
   "cell_type": "code",
   "execution_count": null,
   "id": "fd463f30",
   "metadata": {},
   "outputs": [],
   "source": []
  },
  {
   "cell_type": "code",
   "execution_count": null,
   "id": "2b2e2f2d",
   "metadata": {},
   "outputs": [],
   "source": []
  }
 ],
 "metadata": {
  "kernelspec": {
   "display_name": "Python 3 (ipykernel)",
   "language": "python",
   "name": "python3"
  },
  "language_info": {
   "codemirror_mode": {
    "name": "ipython",
    "version": 3
   },
   "file_extension": ".py",
   "mimetype": "text/x-python",
   "name": "python",
   "nbconvert_exporter": "python",
   "pygments_lexer": "ipython3",
   "version": "3.9.12"
  }
 },
 "nbformat": 4,
 "nbformat_minor": 5
}
