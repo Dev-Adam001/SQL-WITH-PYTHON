{
 "cells": [
  {
   "cell_type": "code",
   "execution_count": null,
   "id": "c09fe3b0",
   "metadata": {},
   "outputs": [],
   "source": []
  },
  {
   "cell_type": "code",
   "execution_count": 1,
   "id": "f3115810",
   "metadata": {},
   "outputs": [
    {
     "name": "stdout",
     "output_type": "stream",
     "text": [
      "Collecting mysql.connector.python\n",
      "  Downloading mysql_connector_python-8.0.30-cp39-cp39-win_amd64.whl (7.8 MB)\n",
      "Requirement already satisfied: protobuf<=3.20.1,>=3.11.0 in c:\\users\\user\\anaconda3\\lib\\site-packages (from mysql.connector.python) (3.19.1)\n",
      "Installing collected packages: mysql.connector.python\n",
      "Successfully installed mysql.connector.python-8.0.30\n",
      "Note: you may need to restart the kernel to use updated packages.\n"
     ]
    }
   ],
   "source": [
    "pip install mysql.connector.python"
   ]
  },
  {
   "cell_type": "code",
   "execution_count": 2,
   "id": "e8c71f5d",
   "metadata": {},
   "outputs": [],
   "source": [
    "import mysql.connector\n"
   ]
  },
  {
   "cell_type": "code",
   "execution_count": 4,
   "id": "2bc76554",
   "metadata": {},
   "outputs": [],
   "source": [
    "from mysql.connector import Error\n",
    "import pandas as pd"
   ]
  },
  {
   "cell_type": "code",
   "execution_count": 38,
   "id": "3807a959",
   "metadata": {},
   "outputs": [
    {
     "name": "stdout",
     "output_type": "stream",
     "text": [
      "MySQL database connection succesful\n"
     ]
    }
   ],
   "source": [
    "def create_server_connection(host_name, user_name, user_password):\n",
    "    connection = None\n",
    "    try:\n",
    "        connection = mysql.connector.connect(host=host_name,\n",
    "                                             user=user_name,\n",
    "                                             password=user_password\n",
    "                                            )\n",
    "        print(\"MySQL database connection succesful\")\n",
    "    except Error as err:\n",
    "        print(f\"Error: '{err}'\")\n",
    "    return connection\n",
    "\n",
    "pw = 'Adidas@124'\n",
    "db = \"sql_python\"\n",
    "\n",
    "connection = connection = create_server_connection('localhost','root', pw)"
   ]
  },
  {
   "cell_type": "code",
   "execution_count": 26,
   "id": "c3864d27",
   "metadata": {},
   "outputs": [
    {
     "name": "stdout",
     "output_type": "stream",
     "text": [
      "Database successfully created\n"
     ]
    }
   ],
   "source": [
    "#Creating mysql_python\n",
    "\n",
    "def create_database(connection, query):\n",
    "    cursor = connection.cursor()\n",
    "    try:\n",
    "        cursor.execute(query)\n",
    "        print('Database successfully created')\n",
    "    except Error as err:\n",
    "        print(f\"Error: '{err}'\")\n",
    "create_database_query = 'Create database sql_python'\n",
    "create_database(connection, create_database_query)"
   ]
  },
  {
   "cell_type": "code",
   "execution_count": 28,
   "id": "bdb61e96",
   "metadata": {},
   "outputs": [],
   "source": [
    "#Connecting to database\n",
    "\n",
    "def create_db_connection(host_name,user_name,user_password,db_name):\n",
    "    connection = None\n",
    "    try:\n",
    "        connection = mysql.connector.connect(\n",
    "            host=host_name,\n",
    "            user=user_name,\n",
    "            passwd=user_password,\n",
    "            database=db_name)\n",
    "        print(\"MySQL database connection successful\")\n",
    "    except Error as err:\n",
    "        print(f\"Error: '{err}'\")\n",
    "    return connection\n",
    "    "
   ]
  },
  {
   "cell_type": "code",
   "execution_count": 34,
   "id": "5c05a1bd",
   "metadata": {},
   "outputs": [],
   "source": [
    "#Execute SQL queries\n",
    "\n",
    "def execute_query(connection, query):\n",
    "    cursor = connection.cursor()\n",
    "    try:\n",
    "        cursor.execute(query)\n",
    "        connection.commit()\n",
    "        print('Query was successfully executed')\n",
    "    except Error as err:\n",
    "        print(f\"Error: '{err}'\")\n"
   ]
  },
  {
   "cell_type": "code",
   "execution_count": 39,
   "id": "a8431d9c",
   "metadata": {},
   "outputs": [
    {
     "name": "stdout",
     "output_type": "stream",
     "text": [
      "MySQL database connection successful\n",
      "Query was successfully executed\n"
     ]
    }
   ],
   "source": [
    "create_orders_table = \"\"\"\n",
    "create table orders(\n",
    "order_id int primary key,\n",
    "customer_name varchar(30) not null,\n",
    "product_name varchar(30) not null,\n",
    "order_date date,\n",
    "quantity_ordered int,\n",
    "price float,\n",
    "contact varchar(20));\"\"\"\n",
    "\n",
    "connection = create_db_connection(\"localhost\", 'root', pw, db)\n",
    "execute_query(connection, create_orders_table)"
   ]
  },
  {
   "cell_type": "code",
   "execution_count": 41,
   "id": "33fa65bd",
   "metadata": {},
   "outputs": [
    {
     "name": "stdout",
     "output_type": "stream",
     "text": [
      "MySQL database connection successful\n",
      "Query was successfully executed\n"
     ]
    }
   ],
   "source": [
    "#Insert data\n",
    "\n",
    "data_orders = \"\"\"\n",
    "insert into orders values\n",
    "(001, 'Muwafaq Ayoade', 'Laptop', '2022-10-12', 2, 1000, '09070070001'),\n",
    "(002, 'Abu Rumaysoh', 'Airpod', '2022-10-13', 3, 200, '09070070002'),\n",
    "(003, 'Abu Hayan', 'Samsung s11', '2022-10-14', 4, 750, '09070070003'),\n",
    "(004, 'Abu Umar', 'iPhone 14', '2022-10-15', 3, 900, '09070070004'),\n",
    "(005, 'Abu Nabeelah', 'Huawei 55', '2022-10-16', 2, 750, '09070070005'),\n",
    "(006, 'Abu Khadeejah', 'Smart watch', '2022-10-17', 2, 500, '09070070006'),\n",
    "(007, 'Abu Husseinat', 'Smart book', '2022-10-16', 10, 200, '09070070007');\n",
    "\"\"\"\n",
    "\n",
    "connection = create_db_connection(\"localhost\", 'root', pw, db)\n",
    "execute_query(connection, data_orders)"
   ]
  },
  {
   "cell_type": "code",
   "execution_count": 44,
   "id": "5cf68e28",
   "metadata": {},
   "outputs": [],
   "source": [
    "#Read queries and display result\n",
    "\n",
    "def read_query(connection, query):\n",
    "    cursor = connection.cursor()\n",
    "    result = None\n",
    "    try:\n",
    "        cursor.execute(query)\n",
    "        result = cursor.fetchall()\n",
    "        return result\n",
    "    except Error as err:\n",
    "        print(f\"Error: '{err}'\")"
   ]
  },
  {
   "cell_type": "code",
   "execution_count": 46,
   "id": "51772955",
   "metadata": {},
   "outputs": [
    {
     "name": "stdout",
     "output_type": "stream",
     "text": [
      "MySQL database connection successful\n",
      "(1, 'Muwafaq Ayoade', 'Laptop', datetime.date(2022, 10, 12), 2, 1000.0, '09070070001')\n",
      "(2, 'Abu Rumaysoh', 'Airpod', datetime.date(2022, 10, 13), 3, 200.0, '09070070002')\n",
      "(3, 'Abu Hayan', 'Samsung s11', datetime.date(2022, 10, 14), 4, 750.0, '09070070003')\n",
      "(4, 'Abu Umar', 'iPhone 14', datetime.date(2022, 10, 15), 3, 900.0, '09070070004')\n",
      "(5, 'Abu Nabeelah', 'Huawei 55', datetime.date(2022, 10, 16), 2, 750.0, '09070070005')\n",
      "(6, 'Abu Khadeejah', 'Smart watch', datetime.date(2022, 10, 17), 2, 500.0, '09070070006')\n",
      "(7, 'Abu Husseinat', 'Smart book', datetime.date(2022, 10, 16), 10, 200.0, '09070070007')\n"
     ]
    }
   ],
   "source": [
    "#Using the select statment\n",
    "\n",
    "q1 = \"\"\"select * from orders;\n",
    "\"\"\"\n",
    "\n",
    "connection = create_db_connection(\"localhost\", 'root', pw, db)\n",
    "results = read_query(connection, q1)\n",
    "for result in results:\n",
    "    print(result)"
   ]
  },
  {
   "cell_type": "code",
   "execution_count": 48,
   "id": "172c1305",
   "metadata": {},
   "outputs": [
    {
     "name": "stdout",
     "output_type": "stream",
     "text": [
      "MySQL database connection successful\n",
      "('Muwafaq Ayoade', '09070070001')\n",
      "('Abu Rumaysoh', '09070070002')\n",
      "('Abu Hayan', '09070070003')\n",
      "('Abu Umar', '09070070004')\n",
      "('Abu Nabeelah', '09070070005')\n",
      "('Abu Khadeejah', '09070070006')\n",
      "('Abu Husseinat', '09070070007')\n"
     ]
    }
   ],
   "source": [
    "\n",
    "q2 = \"\"\"select customer_name, contact from orders;\n",
    "\"\"\"\n",
    "\n",
    "connection = create_db_connection(\"localhost\", 'root', pw, db)\n",
    "results = read_query(connection, q2)\n",
    "for result in results:\n",
    "    print(result)"
   ]
  },
  {
   "cell_type": "code",
   "execution_count": 50,
   "id": "440193d6",
   "metadata": {},
   "outputs": [
    {
     "name": "stdout",
     "output_type": "stream",
     "text": [
      "MySQL database connection successful\n",
      "(2022,)\n",
      "(2022,)\n",
      "(2022,)\n",
      "(2022,)\n",
      "(2022,)\n",
      "(2022,)\n",
      "(2022,)\n"
     ]
    }
   ],
   "source": [
    "q3 = \"\"\"select year(order_date)from orders;\n",
    "\"\"\"\n",
    "\n",
    "connection = create_db_connection(\"localhost\", 'root', pw, db)\n",
    "results = read_query(connection, q3)\n",
    "for result in results:\n",
    "    print(result)"
   ]
  },
  {
   "cell_type": "code",
   "execution_count": 51,
   "id": "7484b7c2",
   "metadata": {},
   "outputs": [
    {
     "name": "stdout",
     "output_type": "stream",
     "text": [
      "MySQL database connection successful\n",
      "(2022,)\n"
     ]
    }
   ],
   "source": [
    "q4 = \"\"\"select distinct year(order_date)from orders;\n",
    "\"\"\"\n",
    "\n",
    "connection = create_db_connection(\"localhost\", 'root', pw, db)\n",
    "results = read_query(connection, q4)\n",
    "for result in results:\n",
    "    print(result)"
   ]
  },
  {
   "cell_type": "code",
   "execution_count": 53,
   "id": "fdf5a0b1",
   "metadata": {},
   "outputs": [
    {
     "name": "stdout",
     "output_type": "stream",
     "text": [
      "MySQL database connection successful\n",
      "(4, 'Abu Umar', 'iPhone 14', datetime.date(2022, 10, 15), 3, 900.0, '09070070004')\n",
      "(5, 'Abu Nabeelah', 'Huawei 55', datetime.date(2022, 10, 16), 2, 750.0, '09070070005')\n",
      "(6, 'Abu Khadeejah', 'Smart watch', datetime.date(2022, 10, 17), 2, 500.0, '09070070006')\n",
      "(7, 'Abu Husseinat', 'Smart book', datetime.date(2022, 10, 16), 10, 200.0, '09070070007')\n"
     ]
    }
   ],
   "source": [
    "q5 = \"\"\"SELECT \n",
    "    *\n",
    "FROM\n",
    "    orders\n",
    "WHERE\n",
    "    order_date > '2022-10-14';\n",
    "\"\"\"\n",
    "\n",
    "connection = create_db_connection(\"localhost\", 'root', pw, db)\n",
    "results = read_query(connection, q5)\n",
    "for result in results:\n",
    "    print(result)"
   ]
  },
  {
   "cell_type": "code",
   "execution_count": 58,
   "id": "b0563d32",
   "metadata": {},
   "outputs": [
    {
     "name": "stdout",
     "output_type": "stream",
     "text": [
      "MySQL database connection successful\n",
      "(1, 'Muwafaq Ayoade', 'Laptop', datetime.date(2022, 10, 12), 2, 1000.0, '09070070001')\n",
      "(2, 'Abu Rumaysoh', 'Airpod', datetime.date(2022, 10, 13), 3, 200.0, '09070070002')\n",
      "(3, 'Abu Hayan', 'Samsung s11', datetime.date(2022, 10, 14), 4, 750.0, '09070070003')\n",
      "(4, 'Abu Umar', 'iPhone 14', datetime.date(2022, 10, 15), 3, 900.0, '09070070004')\n",
      "(5, 'Abu Nabeelah', 'Huawei 55', datetime.date(2022, 10, 16), 2, 750.0, '09070070005')\n",
      "(6, 'Abu Khadeejah', 'Smart watch', datetime.date(2022, 10, 17), 2, 500.0, '09070070006')\n",
      "(7, 'Abu Husseinat', 'Smart book', datetime.date(2022, 10, 16), 10, 200.0, '09070070007')\n"
     ]
    }
   ],
   "source": [
    "#Raw display from MySQL Workbench\n",
    "\n",
    "q6 = \"\"\" SELECT * FROM orders; \"\"\"\n",
    "connection = create_db_connection(\"localhost\", 'root', pw, db)\n",
    "results = read_query(connection, q6)\n",
    "for result in results:\n",
    "    print(result)"
   ]
  },
  {
   "cell_type": "code",
   "execution_count": 95,
   "id": "5fba72e0",
   "metadata": {},
   "outputs": [
    {
     "name": "stdout",
     "output_type": "stream",
     "text": [
      "[[1, 'Muwafaq Ayoade', 'Laptop', datetime.date(2022, 10, 12), 2, 1000.0, '09070070001'], [2, 'Abu Rumaysoh', 'Airpod', datetime.date(2022, 10, 13), 3, 200.0, '09070070002'], [3, 'Abu Hayan', 'Samsung s11', datetime.date(2022, 10, 14), 4, 750.0, '09070070003'], [4, 'Abu Umar', 'iPhone 14', datetime.date(2022, 10, 15), 3, 900.0, '09070070004'], [5, 'Abu Nabeelah', 'Huawei 55', datetime.date(2022, 10, 16), 2, 750.0, '09070070005'], [6, 'Abu Khadeejah', 'Smart watch', datetime.date(2022, 10, 17), 2, 500.0, '09070070006']]\n"
     ]
    }
   ],
   "source": [
    "\n",
    "from_db = []\n",
    "\n",
    "for result in results:\n",
    "    result = list(result)\n",
    "    from_db.append(result)\n",
    "    \n",
    "print(from_db)\n"
   ]
  },
  {
   "cell_type": "code",
   "execution_count": 96,
   "id": "c1f1e507",
   "metadata": {},
   "outputs": [
    {
     "name": "stdout",
     "output_type": "stream",
     "text": [
      "(1, 'Muwafaq Ayoade', 'Laptop', datetime.date(2022, 10, 12), 2, 1000.0, '09070070001')\n",
      "(2, 'Abu Rumaysoh', 'Airpod', datetime.date(2022, 10, 13), 3, 200.0, '09070070002')\n",
      "(3, 'Abu Hayan', 'Samsung s11', datetime.date(2022, 10, 14), 4, 750.0, '09070070003')\n",
      "(4, 'Abu Umar', 'iPhone 14', datetime.date(2022, 10, 15), 3, 900.0, '09070070004')\n",
      "(5, 'Abu Nabeelah', 'Huawei 55', datetime.date(2022, 10, 16), 2, 750.0, '09070070005')\n",
      "(6, 'Abu Khadeejah', 'Smart watch', datetime.date(2022, 10, 17), 2, 500.0, '09070070006')\n"
     ]
    }
   ],
   "source": [
    "for result in results:\n",
    "    print(result)"
   ]
  },
  {
   "cell_type": "code",
   "execution_count": 73,
   "id": "845d61a2",
   "metadata": {},
   "outputs": [
    {
     "data": {
      "text/html": [
       "<div>\n",
       "<style scoped>\n",
       "    .dataframe tbody tr th:only-of-type {\n",
       "        vertical-align: middle;\n",
       "    }\n",
       "\n",
       "    .dataframe tbody tr th {\n",
       "        vertical-align: top;\n",
       "    }\n",
       "\n",
       "    .dataframe thead th {\n",
       "        text-align: right;\n",
       "    }\n",
       "</style>\n",
       "<table border=\"1\" class=\"dataframe\">\n",
       "  <thead>\n",
       "    <tr style=\"text-align: right;\">\n",
       "      <th></th>\n",
       "      <th>order_id</th>\n",
       "      <th>cutomer_name</th>\n",
       "      <th>product_name</th>\n",
       "      <th>order_date</th>\n",
       "      <th>quantity</th>\n",
       "      <th>price</th>\n",
       "      <th>contact</th>\n",
       "    </tr>\n",
       "  </thead>\n",
       "  <tbody>\n",
       "    <tr>\n",
       "      <th>0</th>\n",
       "      <td>1</td>\n",
       "      <td>Muwafaq Ayoade</td>\n",
       "      <td>Laptop</td>\n",
       "      <td>2022-10-12</td>\n",
       "      <td>2</td>\n",
       "      <td>1000.0</td>\n",
       "      <td>09070070001</td>\n",
       "    </tr>\n",
       "    <tr>\n",
       "      <th>1</th>\n",
       "      <td>2</td>\n",
       "      <td>Abu Rumaysoh</td>\n",
       "      <td>Airpod</td>\n",
       "      <td>2022-10-13</td>\n",
       "      <td>3</td>\n",
       "      <td>200.0</td>\n",
       "      <td>09070070002</td>\n",
       "    </tr>\n",
       "    <tr>\n",
       "      <th>2</th>\n",
       "      <td>3</td>\n",
       "      <td>Abu Hayan</td>\n",
       "      <td>Samsung s11</td>\n",
       "      <td>2022-10-14</td>\n",
       "      <td>4</td>\n",
       "      <td>750.0</td>\n",
       "      <td>09070070003</td>\n",
       "    </tr>\n",
       "    <tr>\n",
       "      <th>3</th>\n",
       "      <td>4</td>\n",
       "      <td>Abu Umar</td>\n",
       "      <td>iPhone 14</td>\n",
       "      <td>2022-10-15</td>\n",
       "      <td>3</td>\n",
       "      <td>900.0</td>\n",
       "      <td>09070070004</td>\n",
       "    </tr>\n",
       "    <tr>\n",
       "      <th>4</th>\n",
       "      <td>5</td>\n",
       "      <td>Abu Nabeelah</td>\n",
       "      <td>Huawei 55</td>\n",
       "      <td>2022-10-16</td>\n",
       "      <td>2</td>\n",
       "      <td>750.0</td>\n",
       "      <td>09070070005</td>\n",
       "    </tr>\n",
       "    <tr>\n",
       "      <th>5</th>\n",
       "      <td>6</td>\n",
       "      <td>Abu Khadeejah</td>\n",
       "      <td>Smart watch</td>\n",
       "      <td>2022-10-17</td>\n",
       "      <td>2</td>\n",
       "      <td>500.0</td>\n",
       "      <td>09070070006</td>\n",
       "    </tr>\n",
       "  </tbody>\n",
       "</table>\n",
       "</div>"
      ],
      "text/plain": [
       "   order_id    cutomer_name product_name  order_date  quantity   price  \\\n",
       "0         1  Muwafaq Ayoade       Laptop  2022-10-12         2  1000.0   \n",
       "1         2    Abu Rumaysoh       Airpod  2022-10-13         3   200.0   \n",
       "2         3       Abu Hayan  Samsung s11  2022-10-14         4   750.0   \n",
       "3         4        Abu Umar    iPhone 14  2022-10-15         3   900.0   \n",
       "4         5    Abu Nabeelah    Huawei 55  2022-10-16         2   750.0   \n",
       "5         6   Abu Khadeejah  Smart watch  2022-10-17         2   500.0   \n",
       "\n",
       "       contact  \n",
       "0  09070070001  \n",
       "1  09070070002  \n",
       "2  09070070003  \n",
       "3  09070070004  \n",
       "4  09070070005  \n",
       "5  09070070006  "
      ]
     },
     "metadata": {},
     "output_type": "display_data"
    }
   ],
   "source": [
    "#Creating a pandas dataframe from mysql database\n",
    "\n",
    "from_db = []\n",
    "\n",
    "for result in results:\n",
    "    result = list(result)\n",
    "    from_db.append(result)\n",
    "columns = [\"order_id\", 'cutomer_name', 'product_name',\n",
    "          'order_date', 'quantity', \"price\", 'contact']\n",
    "\n",
    "df = pd.DataFrame(from_db, columns = columns)\n",
    "display(df)"
   ]
  },
  {
   "cell_type": "code",
   "execution_count": null,
   "id": "cb990d20",
   "metadata": {},
   "outputs": [],
   "source": [
    "from_db = []\n",
    "\n",
    "for result in results:\n",
    "    result = list(result)\n",
    "    from_db.append(result)\n",
    "columns = [\"order_id\", 'cutomer_name', 'product_name',\n",
    "          'order_date', 'quantity', \"price\", 'contact']\n",
    "\n",
    "df = pd.DataFrame(from_db, columns = columns)\n",
    "display(df)"
   ]
  },
  {
   "cell_type": "code",
   "execution_count": 57,
   "id": "c2523cd0",
   "metadata": {},
   "outputs": [
    {
     "data": {
      "text/html": [
       "<div>\n",
       "<style scoped>\n",
       "    .dataframe tbody tr th:only-of-type {\n",
       "        vertical-align: middle;\n",
       "    }\n",
       "\n",
       "    .dataframe tbody tr th {\n",
       "        vertical-align: top;\n",
       "    }\n",
       "\n",
       "    .dataframe thead th {\n",
       "        text-align: right;\n",
       "    }\n",
       "</style>\n",
       "<table border=\"1\" class=\"dataframe\">\n",
       "  <thead>\n",
       "    <tr style=\"text-align: right;\">\n",
       "      <th></th>\n",
       "      <th>order_id</th>\n",
       "      <th>cutomer_name</th>\n",
       "      <th>product_name</th>\n",
       "      <th>order_date</th>\n",
       "      <th>quantity</th>\n",
       "      <th>price</th>\n",
       "      <th>contact</th>\n",
       "    </tr>\n",
       "  </thead>\n",
       "  <tbody>\n",
       "    <tr>\n",
       "      <th>0</th>\n",
       "      <td>4</td>\n",
       "      <td>Abu Umar</td>\n",
       "      <td>iPhone 14</td>\n",
       "      <td>2022-10-15</td>\n",
       "      <td>3</td>\n",
       "      <td>900.0</td>\n",
       "      <td>09070070004</td>\n",
       "    </tr>\n",
       "    <tr>\n",
       "      <th>1</th>\n",
       "      <td>5</td>\n",
       "      <td>Abu Nabeelah</td>\n",
       "      <td>Huawei 55</td>\n",
       "      <td>2022-10-16</td>\n",
       "      <td>2</td>\n",
       "      <td>750.0</td>\n",
       "      <td>09070070005</td>\n",
       "    </tr>\n",
       "    <tr>\n",
       "      <th>2</th>\n",
       "      <td>6</td>\n",
       "      <td>Abu Khadeejah</td>\n",
       "      <td>Smart watch</td>\n",
       "      <td>2022-10-17</td>\n",
       "      <td>2</td>\n",
       "      <td>500.0</td>\n",
       "      <td>09070070006</td>\n",
       "    </tr>\n",
       "    <tr>\n",
       "      <th>3</th>\n",
       "      <td>7</td>\n",
       "      <td>Abu Husseinat</td>\n",
       "      <td>Smart book</td>\n",
       "      <td>2022-10-16</td>\n",
       "      <td>10</td>\n",
       "      <td>200.0</td>\n",
       "      <td>09070070007</td>\n",
       "    </tr>\n",
       "  </tbody>\n",
       "</table>\n",
       "</div>"
      ],
      "text/plain": [
       "   order_id   cutomer_name product_name  order_date  quantity  price  \\\n",
       "0         4       Abu Umar    iPhone 14  2022-10-15         3  900.0   \n",
       "1         5   Abu Nabeelah    Huawei 55  2022-10-16         2  750.0   \n",
       "2         6  Abu Khadeejah  Smart watch  2022-10-17         2  500.0   \n",
       "3         7  Abu Husseinat   Smart book  2022-10-16        10  200.0   \n",
       "\n",
       "       contact  \n",
       "0  09070070004  \n",
       "1  09070070005  \n",
       "2  09070070006  \n",
       "3  09070070007  "
      ]
     },
     "execution_count": 57,
     "metadata": {},
     "output_type": "execute_result"
    }
   ],
   "source": [
    "df.head(10)"
   ]
  },
  {
   "cell_type": "code",
   "execution_count": 65,
   "id": "bc2415c3",
   "metadata": {},
   "outputs": [
    {
     "name": "stdout",
     "output_type": "stream",
     "text": [
      "MySQL database connection successful\n",
      "(1, 'Muwafaq Ayoade', 'Laptop', datetime.date(2022, 10, 12), 2, 1000.0, '09070070001')\n",
      "(2, 'Abu Rumaysoh', 'Airpod', datetime.date(2022, 10, 13), 3, 200.0, '09070070002')\n",
      "(3, 'Abu Hayan', 'Samsung s11', datetime.date(2022, 10, 14), 4, 750.0, '09070070003')\n",
      "(4, 'Abu Umar', 'iPhone 14', datetime.date(2022, 10, 15), 3, 900.0, '09070070004')\n",
      "(5, 'Abu Nabeelah', 'Huawei 55', datetime.date(2022, 10, 16), 2, 750.0, '09070070005')\n",
      "(6, 'Abu Khadeejah', 'Smart watch', datetime.date(2022, 10, 17), 2, 500.0, '09070070006')\n",
      "(7, 'Abu Husseinat', 'Smart book', datetime.date(2022, 10, 16), 8, 200.0, '09070070007')\n"
     ]
    }
   ],
   "source": [
    "q7 = \"\"\" SELECT * FROM orders; \"\"\"\n",
    "connection = create_db_connection(\"localhost\", 'root', pw, db)\n",
    "results = read_query(connection, q7)\n",
    "for result in results:\n",
    "    print(result)"
   ]
  },
  {
   "cell_type": "code",
   "execution_count": 64,
   "id": "e4464139",
   "metadata": {},
   "outputs": [
    {
     "name": "stdout",
     "output_type": "stream",
     "text": [
      "MySQL database connection successful\n",
      "Query was successfully executed\n"
     ]
    }
   ],
   "source": [
    "#Update command\n",
    "\n",
    "update = \"\"\"\n",
    "Update orders set quantity_ordered = 8 where order_id = 7\n",
    "\"\"\"\n",
    "\n",
    "connection = create_db_connection(\"localhost\", 'root', pw, db)\n",
    "execute_query(connection, update)"
   ]
  },
  {
   "cell_type": "code",
   "execution_count": 66,
   "id": "092790ce",
   "metadata": {},
   "outputs": [
    {
     "name": "stdout",
     "output_type": "stream",
     "text": [
      "MySQL database connection successful\n",
      "(1, 'Muwafaq Ayoade', 'Laptop', datetime.date(2022, 10, 12), 2, 1000.0, '09070070001')\n",
      "(2, 'Abu Rumaysoh', 'Airpod', datetime.date(2022, 10, 13), 3, 200.0, '09070070002')\n",
      "(3, 'Abu Hayan', 'Samsung s11', datetime.date(2022, 10, 14), 4, 750.0, '09070070003')\n",
      "(4, 'Abu Umar', 'iPhone 14', datetime.date(2022, 10, 15), 3, 900.0, '09070070004')\n",
      "(5, 'Abu Nabeelah', 'Huawei 55', datetime.date(2022, 10, 16), 2, 750.0, '09070070005')\n",
      "(6, 'Abu Khadeejah', 'Smart watch', datetime.date(2022, 10, 17), 2, 500.0, '09070070006')\n",
      "(7, 'Abu Husseinat', 'Smart book', datetime.date(2022, 10, 16), 8, 200.0, '09070070007')\n"
     ]
    }
   ],
   "source": [
    "q8 = \"\"\" SELECT * FROM orders; \"\"\"\n",
    "connection = create_db_connection(\"localhost\", 'root', pw, db)\n",
    "results = read_query(connection, q8)\n",
    "for result in results:\n",
    "    print(result)"
   ]
  },
  {
   "cell_type": "code",
   "execution_count": 69,
   "id": "7cfb12ba",
   "metadata": {},
   "outputs": [
    {
     "data": {
      "text/html": [
       "<div>\n",
       "<style scoped>\n",
       "    .dataframe tbody tr th:only-of-type {\n",
       "        vertical-align: middle;\n",
       "    }\n",
       "\n",
       "    .dataframe tbody tr th {\n",
       "        vertical-align: top;\n",
       "    }\n",
       "\n",
       "    .dataframe thead th {\n",
       "        text-align: right;\n",
       "    }\n",
       "</style>\n",
       "<table border=\"1\" class=\"dataframe\">\n",
       "  <thead>\n",
       "    <tr style=\"text-align: right;\">\n",
       "      <th></th>\n",
       "      <th>order_id</th>\n",
       "      <th>cutomer_name</th>\n",
       "      <th>product_name</th>\n",
       "      <th>order_date</th>\n",
       "      <th>quantity</th>\n",
       "      <th>price</th>\n",
       "      <th>contact</th>\n",
       "    </tr>\n",
       "  </thead>\n",
       "  <tbody>\n",
       "    <tr>\n",
       "      <th>0</th>\n",
       "      <td>1</td>\n",
       "      <td>Muwafaq Ayoade</td>\n",
       "      <td>Laptop</td>\n",
       "      <td>2022-10-12</td>\n",
       "      <td>2</td>\n",
       "      <td>1000.0</td>\n",
       "      <td>09070070001</td>\n",
       "    </tr>\n",
       "    <tr>\n",
       "      <th>1</th>\n",
       "      <td>2</td>\n",
       "      <td>Abu Rumaysoh</td>\n",
       "      <td>Airpod</td>\n",
       "      <td>2022-10-13</td>\n",
       "      <td>3</td>\n",
       "      <td>200.0</td>\n",
       "      <td>09070070002</td>\n",
       "    </tr>\n",
       "    <tr>\n",
       "      <th>2</th>\n",
       "      <td>3</td>\n",
       "      <td>Abu Hayan</td>\n",
       "      <td>Samsung s11</td>\n",
       "      <td>2022-10-14</td>\n",
       "      <td>4</td>\n",
       "      <td>750.0</td>\n",
       "      <td>09070070003</td>\n",
       "    </tr>\n",
       "    <tr>\n",
       "      <th>3</th>\n",
       "      <td>4</td>\n",
       "      <td>Abu Umar</td>\n",
       "      <td>iPhone 14</td>\n",
       "      <td>2022-10-15</td>\n",
       "      <td>3</td>\n",
       "      <td>900.0</td>\n",
       "      <td>09070070004</td>\n",
       "    </tr>\n",
       "    <tr>\n",
       "      <th>4</th>\n",
       "      <td>5</td>\n",
       "      <td>Abu Nabeelah</td>\n",
       "      <td>Huawei 55</td>\n",
       "      <td>2022-10-16</td>\n",
       "      <td>2</td>\n",
       "      <td>750.0</td>\n",
       "      <td>09070070005</td>\n",
       "    </tr>\n",
       "    <tr>\n",
       "      <th>5</th>\n",
       "      <td>6</td>\n",
       "      <td>Abu Khadeejah</td>\n",
       "      <td>Smart watch</td>\n",
       "      <td>2022-10-17</td>\n",
       "      <td>2</td>\n",
       "      <td>500.0</td>\n",
       "      <td>09070070006</td>\n",
       "    </tr>\n",
       "    <tr>\n",
       "      <th>6</th>\n",
       "      <td>7</td>\n",
       "      <td>Abu Husseinat</td>\n",
       "      <td>Smart book</td>\n",
       "      <td>2022-10-16</td>\n",
       "      <td>8</td>\n",
       "      <td>200.0</td>\n",
       "      <td>09070070007</td>\n",
       "    </tr>\n",
       "  </tbody>\n",
       "</table>\n",
       "</div>"
      ],
      "text/plain": [
       "   order_id    cutomer_name product_name  order_date  quantity   price  \\\n",
       "0         1  Muwafaq Ayoade       Laptop  2022-10-12         2  1000.0   \n",
       "1         2    Abu Rumaysoh       Airpod  2022-10-13         3   200.0   \n",
       "2         3       Abu Hayan  Samsung s11  2022-10-14         4   750.0   \n",
       "3         4        Abu Umar    iPhone 14  2022-10-15         3   900.0   \n",
       "4         5    Abu Nabeelah    Huawei 55  2022-10-16         2   750.0   \n",
       "5         6   Abu Khadeejah  Smart watch  2022-10-17         2   500.0   \n",
       "6         7   Abu Husseinat   Smart book  2022-10-16         8   200.0   \n",
       "\n",
       "       contact  \n",
       "0  09070070001  \n",
       "1  09070070002  \n",
       "2  09070070003  \n",
       "3  09070070004  \n",
       "4  09070070005  \n",
       "5  09070070006  \n",
       "6  09070070007  "
      ]
     },
     "execution_count": 69,
     "metadata": {},
     "output_type": "execute_result"
    }
   ],
   "source": [
    "df.head(10)"
   ]
  },
  {
   "cell_type": "code",
   "execution_count": 82,
   "id": "9a749e73",
   "metadata": {},
   "outputs": [
    {
     "name": "stdout",
     "output_type": "stream",
     "text": [
      "MySQL database connection successful\n",
      "Query was successfully executed\n"
     ]
    }
   ],
   "source": [
    "#Deleting a query\n",
    "\n",
    "delete_orders = \"\"\"delete from orders where order_id = 7\"\"\"\n",
    "\n",
    "connection = create_db_connection(\"localhost\", 'root', pw, db)\n",
    "execute_query(connection, delete_orders)"
   ]
  },
  {
   "cell_type": "code",
   "execution_count": 81,
   "id": "d5cd4464",
   "metadata": {},
   "outputs": [
    {
     "name": "stdout",
     "output_type": "stream",
     "text": [
      "MySQL database connection successful\n",
      "(1, 'Muwafaq Ayoade', 'Laptop', datetime.date(2022, 10, 12), 2, 1000.0, '09070070001')\n",
      "(2, 'Abu Rumaysoh', 'Airpod', datetime.date(2022, 10, 13), 3, 200.0, '09070070002')\n",
      "(3, 'Abu Hayan', 'Samsung s11', datetime.date(2022, 10, 14), 4, 750.0, '09070070003')\n",
      "(4, 'Abu Umar', 'iPhone 14', datetime.date(2022, 10, 15), 3, 900.0, '09070070004')\n",
      "(5, 'Abu Nabeelah', 'Huawei 55', datetime.date(2022, 10, 16), 2, 750.0, '09070070005')\n",
      "(6, 'Abu Khadeejah', 'Smart watch', datetime.date(2022, 10, 17), 2, 500.0, '09070070006')\n"
     ]
    }
   ],
   "source": [
    "q9 = \"\"\" SELECT * FROM orders; \"\"\"\n",
    "connection = create_db_connection(\"localhost\", 'root', pw, db)\n",
    "results = read_query(connection, q9)\n",
    "for result in results:\n",
    "    print(result)"
   ]
  },
  {
   "cell_type": "code",
   "execution_count": 74,
   "id": "72abd78e",
   "metadata": {},
   "outputs": [
    {
     "data": {
      "text/html": [
       "<div>\n",
       "<style scoped>\n",
       "    .dataframe tbody tr th:only-of-type {\n",
       "        vertical-align: middle;\n",
       "    }\n",
       "\n",
       "    .dataframe tbody tr th {\n",
       "        vertical-align: top;\n",
       "    }\n",
       "\n",
       "    .dataframe thead th {\n",
       "        text-align: right;\n",
       "    }\n",
       "</style>\n",
       "<table border=\"1\" class=\"dataframe\">\n",
       "  <thead>\n",
       "    <tr style=\"text-align: right;\">\n",
       "      <th></th>\n",
       "      <th>order_id</th>\n",
       "      <th>cutomer_name</th>\n",
       "      <th>product_name</th>\n",
       "      <th>order_date</th>\n",
       "      <th>quantity</th>\n",
       "      <th>price</th>\n",
       "      <th>contact</th>\n",
       "    </tr>\n",
       "  </thead>\n",
       "  <tbody>\n",
       "    <tr>\n",
       "      <th>0</th>\n",
       "      <td>1</td>\n",
       "      <td>Muwafaq Ayoade</td>\n",
       "      <td>Laptop</td>\n",
       "      <td>2022-10-12</td>\n",
       "      <td>2</td>\n",
       "      <td>1000.0</td>\n",
       "      <td>09070070001</td>\n",
       "    </tr>\n",
       "    <tr>\n",
       "      <th>1</th>\n",
       "      <td>2</td>\n",
       "      <td>Abu Rumaysoh</td>\n",
       "      <td>Airpod</td>\n",
       "      <td>2022-10-13</td>\n",
       "      <td>3</td>\n",
       "      <td>200.0</td>\n",
       "      <td>09070070002</td>\n",
       "    </tr>\n",
       "    <tr>\n",
       "      <th>2</th>\n",
       "      <td>3</td>\n",
       "      <td>Abu Hayan</td>\n",
       "      <td>Samsung s11</td>\n",
       "      <td>2022-10-14</td>\n",
       "      <td>4</td>\n",
       "      <td>750.0</td>\n",
       "      <td>09070070003</td>\n",
       "    </tr>\n",
       "    <tr>\n",
       "      <th>3</th>\n",
       "      <td>4</td>\n",
       "      <td>Abu Umar</td>\n",
       "      <td>iPhone 14</td>\n",
       "      <td>2022-10-15</td>\n",
       "      <td>3</td>\n",
       "      <td>900.0</td>\n",
       "      <td>09070070004</td>\n",
       "    </tr>\n",
       "    <tr>\n",
       "      <th>4</th>\n",
       "      <td>5</td>\n",
       "      <td>Abu Nabeelah</td>\n",
       "      <td>Huawei 55</td>\n",
       "      <td>2022-10-16</td>\n",
       "      <td>2</td>\n",
       "      <td>750.0</td>\n",
       "      <td>09070070005</td>\n",
       "    </tr>\n",
       "    <tr>\n",
       "      <th>5</th>\n",
       "      <td>6</td>\n",
       "      <td>Abu Khadeejah</td>\n",
       "      <td>Smart watch</td>\n",
       "      <td>2022-10-17</td>\n",
       "      <td>2</td>\n",
       "      <td>500.0</td>\n",
       "      <td>09070070006</td>\n",
       "    </tr>\n",
       "  </tbody>\n",
       "</table>\n",
       "</div>"
      ],
      "text/plain": [
       "   order_id    cutomer_name product_name  order_date  quantity   price  \\\n",
       "0         1  Muwafaq Ayoade       Laptop  2022-10-12         2  1000.0   \n",
       "1         2    Abu Rumaysoh       Airpod  2022-10-13         3   200.0   \n",
       "2         3       Abu Hayan  Samsung s11  2022-10-14         4   750.0   \n",
       "3         4        Abu Umar    iPhone 14  2022-10-15         3   900.0   \n",
       "4         5    Abu Nabeelah    Huawei 55  2022-10-16         2   750.0   \n",
       "5         6   Abu Khadeejah  Smart watch  2022-10-17         2   500.0   \n",
       "\n",
       "       contact  \n",
       "0  09070070001  \n",
       "1  09070070002  \n",
       "2  09070070003  \n",
       "3  09070070004  \n",
       "4  09070070005  \n",
       "5  09070070006  "
      ]
     },
     "execution_count": 74,
     "metadata": {},
     "output_type": "execute_result"
    }
   ],
   "source": [
    "df.head(10)"
   ]
  },
  {
   "cell_type": "code",
   "execution_count": 93,
   "id": "c4466d05",
   "metadata": {},
   "outputs": [
    {
     "data": {
      "text/plain": [
       "RangeIndex(start=0, stop=6, step=1)"
      ]
     },
     "execution_count": 93,
     "metadata": {},
     "output_type": "execute_result"
    }
   ],
   "source": [
    "df.columns #to show the column names in a dataframe\n",
    "\n",
    "df.index #to show index labels in dataframe"
   ]
  },
  {
   "cell_type": "code",
   "execution_count": null,
   "id": "12c136a1",
   "metadata": {},
   "outputs": [],
   "source": []
  },
  {
   "cell_type": "code",
   "execution_count": null,
   "id": "0aba5748",
   "metadata": {},
   "outputs": [],
   "source": []
  },
  {
   "cell_type": "code",
   "execution_count": null,
   "id": "891becc2",
   "metadata": {},
   "outputs": [],
   "source": []
  },
  {
   "cell_type": "code",
   "execution_count": null,
   "id": "f515f683",
   "metadata": {},
   "outputs": [],
   "source": []
  }
 ],
 "metadata": {
  "kernelspec": {
   "display_name": "Python 3 (ipykernel)",
   "language": "python",
   "name": "python3"
  },
  "language_info": {
   "codemirror_mode": {
    "name": "ipython",
    "version": 3
   },
   "file_extension": ".py",
   "mimetype": "text/x-python",
   "name": "python",
   "nbconvert_exporter": "python",
   "pygments_lexer": "ipython3",
   "version": "3.9.12"
  }
 },
 "nbformat": 4,
 "nbformat_minor": 5
}
